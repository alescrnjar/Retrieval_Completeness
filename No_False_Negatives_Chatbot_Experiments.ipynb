{
 "cells": [
  {
   "cell_type": "code",
   "execution_count": 1,
   "metadata": {},
   "outputs": [],
   "source": [
    "import warnings\n",
    "warnings.filterwarnings(\"ignore\")\n",
    "\n",
    "import custom_retriever\n",
    "import rag_utils\n",
    "import os\n",
    "import json\n",
    "import generate_questions\n",
    "   \n",
    "key_file='../LM_Tests/openai_api_key.txt'\n",
    "with open(key_file, 'r') as file:\n",
    "    openai_api_key=file.read()\n",
    "os.environ[\"OPENAI_API_KEY\"] = openai_api_key\n"
   ]
  },
  {
   "cell_type": "code",
   "execution_count": 2,
   "metadata": {},
   "outputs": [
    {
     "name": "stdout",
     "output_type": "stream",
     "text": [
      "['What is the relationship between the processes occurring within a cell and the concept of life, considering that all components of the cell are non-living matter?', [{'source': 'aggregated_QOCaacO8wus.txt', 'timestamp': '[00:00:55]'}], 'generated']\n",
      "Splitted text into 35 chunks\n"
     ]
    }
   ],
   "source": [
    "texts=[ # Youtube video transcript with timestamps\n",
    "    'aggregated_f7KSfjv4Oq0.txt', # What Happens If We Throw an Elephant From a Skyscraper? Life & Size 1\n",
    "    'aggregated_QImCld9YubE.txt', # Why are you alive - Life, Energy and ATP\n",
    "    'aggregated_QOCaacO8wus.txt', # What is life? Is death real?\n",
    "    'aggregated_TYPFenJQciw.txt', # The Most Complex Language in the World\n",
    "    ] \n",
    "splits=custom_retriever.make_splits(texts)\n",
    "expID='exp1'\n",
    "\n",
    "json_file='questions.json'\n",
    "if not os.path.isfile(json_file):    \n",
    "    experiments={expID:generate_questions.generic_experiment(splits)}\n",
    "    with open(json_file, 'w') as file:\n",
    "        json.dump(experiments, file)\n",
    "else:\n",
    "    with open(json_file, 'r') as file:\n",
    "        experiments = json.load(file)\n",
    "\n",
    "print(experiments[expID][0])\n",
    "db=custom_retriever.make_db(texts)\n"
   ]
  },
  {
   "cell_type": "code",
   "execution_count": 3,
   "metadata": {},
   "outputs": [
    {
     "name": "stdout",
     "output_type": "stream",
     "text": [
      "\n",
      "+ --- --- --- Cycle: 0\n",
      "Question: What is the relationship between the processes occurring within a cell and the concept of life, considering that all components of the cell are non-living matter?\n",
      "Ground truth metadata: [{'source': 'aggregated_QOCaacO8wus.txt', 'timestamp': '[00:00:55]'}]\n",
      "\n",
      "Using kneedle algorithms to retrieve text chunks with best threshold...\n"
     ]
    },
    {
     "name": "stderr",
     "output_type": "stream",
     "text": [
      "No relevant docs were retrieved using the relevance score threshold 1.0\n",
      "No relevant docs were retrieved using the relevance score threshold 0.95\n",
      "No relevant docs were retrieved using the relevance score threshold 0.8999999999999999\n",
      "No relevant docs were retrieved using the relevance score threshold 0.8499999999999999\n",
      "No relevant docs were retrieved using the relevance score threshold 0.7999999999999998\n",
      "No relevant docs were retrieved using the relevance score threshold 0.7499999999999998\n"
     ]
    },
    {
     "name": "stdout",
     "output_type": "stream",
     "text": [
      "\n",
      "Retrieved documents for different thresholds: {1.0: 0, 0.95: 0, 0.9: 0, 0.85: 0, 0.8: 0, 0.75: 0, 0.7: 2, 0.65: 6, 0.6: 16, 0.55: 23, 0.5: 32, 0.45: 35, 0.4: 35, 0.35: 35, 0.3: 35, 0.25: 35, 0.2: 35, 0.15: 35, 0.1: 35, 0.05: 35}\n",
      "\n",
      "Best threshold determined through the kneedle algorithm: 0.6\n",
      "\n",
      "Retrieved with similarity: 16 documents\n",
      "Altogether: 16 documents retrieved\n",
      "\n",
      "Comparing retrieved documents with ground truth text splits...\n"
     ]
    },
    {
     "name": "stderr",
     "output_type": "stream",
     "text": [
      "100%|██████████| 16/16 [01:17<00:00,  4.82s/it]\n"
     ]
    },
    {
     "name": "stdout",
     "output_type": "stream",
     "text": [
      "\n",
      "N. correct metadata estimations: 1/1\n",
      "\n",
      "+ --- --- --- Cycle: 1\n",
      "Question: What is the significance of photosynthesis in the evolution of cells and their energy acquisition strategies?\n",
      "Ground truth metadata: [{'source': 'aggregated_QImCld9YubE.txt', 'timestamp': '[00:03:42]'}]\n",
      "\n",
      "Using kneedle algorithms to retrieve text chunks with best threshold...\n"
     ]
    },
    {
     "name": "stderr",
     "output_type": "stream",
     "text": [
      "No relevant docs were retrieved using the relevance score threshold 1.0\n",
      "No relevant docs were retrieved using the relevance score threshold 0.95\n",
      "No relevant docs were retrieved using the relevance score threshold 0.8999999999999999\n",
      "No relevant docs were retrieved using the relevance score threshold 0.8499999999999999\n",
      "No relevant docs were retrieved using the relevance score threshold 0.7999999999999998\n",
      "No relevant docs were retrieved using the relevance score threshold 0.7499999999999998\n"
     ]
    },
    {
     "name": "stdout",
     "output_type": "stream",
     "text": [
      "\n",
      "Retrieved documents for different thresholds: {1.0: 0, 0.95: 0, 0.9: 0, 0.85: 0, 0.8: 0, 0.75: 0, 0.7: 2, 0.65: 6, 0.6: 7, 0.55: 15, 0.5: 26, 0.45: 35, 0.4: 35, 0.35: 35, 0.3: 35, 0.25: 35, 0.2: 35, 0.15: 35, 0.1: 35, 0.05: 35}\n",
      "\n",
      "Best threshold determined through the kneedle algorithm: 0.6\n",
      "\n",
      "Retrieved with similarity: 7 documents\n",
      "Altogether: 7 documents retrieved\n",
      "\n",
      "Comparing retrieved documents with ground truth text splits...\n"
     ]
    },
    {
     "name": "stderr",
     "output_type": "stream",
     "text": [
      " 43%|████▎     | 3/7 [00:16<00:21,  5.47s/it]"
     ]
    },
    {
     "name": "stdout",
     "output_type": "stream",
     "text": [
      "DISCARDED (cannot help the LLM answer the question): {'source': 'aggregated_QImCld9YubE.txt', 'timestamp': '[00:05:40]'}\n"
     ]
    },
    {
     "name": "stderr",
     "output_type": "stream",
     "text": [
      " 57%|█████▋    | 4/7 [00:20<00:15,  5.13s/it]"
     ]
    },
    {
     "name": "stdout",
     "output_type": "stream",
     "text": [
      "DISCARDED (cannot help the LLM answer the question): {'source': 'aggregated_QImCld9YubE.txt', 'timestamp': '[00:06:18]'}\n"
     ]
    },
    {
     "name": "stderr",
     "output_type": "stream",
     "text": [
      " 71%|███████▏  | 5/7 [00:27<00:11,  5.61s/it]"
     ]
    },
    {
     "name": "stdout",
     "output_type": "stream",
     "text": [
      "DISCARDED (cannot help the LLM answer the question): {'source': 'aggregated_QImCld9YubE.txt', 'timestamp': '[00:03:08]'}\n"
     ]
    },
    {
     "name": "stderr",
     "output_type": "stream",
     "text": [
      " 86%|████████▌ | 6/7 [00:29<00:04,  4.64s/it]"
     ]
    },
    {
     "name": "stdout",
     "output_type": "stream",
     "text": [
      "DISCARDED (cannot help the LLM answer the question): {'source': 'aggregated_QImCld9YubE.txt', 'timestamp': '[00:01:42]'}\n"
     ]
    },
    {
     "name": "stderr",
     "output_type": "stream",
     "text": [
      "100%|██████████| 7/7 [00:34<00:00,  4.86s/it]"
     ]
    },
    {
     "name": "stdout",
     "output_type": "stream",
     "text": [
      "DISCARDED (cannot help the LLM answer the question): {'source': 'aggregated_QImCld9YubE.txt', 'timestamp': '[00:02:25]'}\n",
      "\n",
      "N. correct metadata estimations: 2/2\n",
      "\n",
      "+ --- --- --- Cycle: 2\n",
      "Question: What processes do cells undergo to maintain life, and how do they relate to the concept of death and the production of new entities?\n",
      "Ground truth metadata: [{'source': 'aggregated_QOCaacO8wus.txt', 'timestamp': '[00:00:55]'}]\n",
      "\n",
      "Using kneedle algorithms to retrieve text chunks with best threshold...\n"
     ]
    },
    {
     "name": "stderr",
     "output_type": "stream",
     "text": [
      "\n",
      "No relevant docs were retrieved using the relevance score threshold 1.0\n",
      "No relevant docs were retrieved using the relevance score threshold 0.95\n",
      "No relevant docs were retrieved using the relevance score threshold 0.8999999999999999\n",
      "No relevant docs were retrieved using the relevance score threshold 0.8499999999999999\n",
      "No relevant docs were retrieved using the relevance score threshold 0.7999999999999998\n",
      "No relevant docs were retrieved using the relevance score threshold 0.7499999999999998\n"
     ]
    },
    {
     "name": "stdout",
     "output_type": "stream",
     "text": [
      "\n",
      "Retrieved documents for different thresholds: {1.0: 0, 0.95: 0, 0.9: 0, 0.85: 0, 0.8: 0, 0.75: 0, 0.7: 1, 0.65: 6, 0.6: 14, 0.55: 23, 0.5: 29, 0.45: 35, 0.4: 35, 0.35: 35, 0.3: 35, 0.25: 35, 0.2: 35, 0.15: 35, 0.1: 35, 0.05: 35}\n",
      "\n",
      "Best threshold determined through the kneedle algorithm: 0.6\n",
      "\n",
      "Retrieved with similarity: 14 documents\n",
      "Altogether: 14 documents retrieved\n",
      "\n",
      "Comparing retrieved documents with ground truth text splits...\n"
     ]
    },
    {
     "name": "stderr",
     "output_type": "stream",
     "text": [
      " 14%|█▍        | 2/14 [00:12<01:11,  5.98s/it]"
     ]
    },
    {
     "name": "stdout",
     "output_type": "stream",
     "text": [
      "DISCARDED (cannot help the LLM answer the question): {'source': 'aggregated_QOCaacO8wus.txt', 'timestamp': '[00:01:33]'}\n"
     ]
    },
    {
     "name": "stderr",
     "output_type": "stream",
     "text": [
      " 21%|██▏       | 3/14 [00:16<00:58,  5.31s/it]"
     ]
    },
    {
     "name": "stdout",
     "output_type": "stream",
     "text": [
      "DISCARDED (cannot help the LLM answer the question): {'source': 'aggregated_QImCld9YubE.txt', 'timestamp': '[00:00:58]'}\n"
     ]
    },
    {
     "name": "stderr",
     "output_type": "stream",
     "text": [
      " 29%|██▊       | 4/14 [00:22<00:55,  5.55s/it]"
     ]
    },
    {
     "name": "stdout",
     "output_type": "stream",
     "text": [
      "DISCARDED (cannot help the LLM answer the question): {'source': 'aggregated_QOCaacO8wus.txt', 'timestamp': '[00:00:06]'}\n"
     ]
    },
    {
     "name": "stderr",
     "output_type": "stream",
     "text": [
      " 36%|███▌      | 5/14 [00:25<00:40,  4.51s/it]"
     ]
    },
    {
     "name": "stdout",
     "output_type": "stream",
     "text": [
      "DISCARDED (cannot help the LLM answer the question): {'source': 'aggregated_QOCaacO8wus.txt', 'timestamp': '[00:03:30]'}\n"
     ]
    },
    {
     "name": "stderr",
     "output_type": "stream",
     "text": [
      " 43%|████▎     | 6/14 [00:29<00:34,  4.37s/it]"
     ]
    },
    {
     "name": "stdout",
     "output_type": "stream",
     "text": [
      "DISCARDED (cannot help the LLM answer the question): {'source': 'aggregated_QImCld9YubE.txt', 'timestamp': '[00:00:18]'}\n"
     ]
    },
    {
     "name": "stderr",
     "output_type": "stream",
     "text": [
      " 50%|█████     | 7/14 [00:34<00:33,  4.80s/it]"
     ]
    },
    {
     "name": "stdout",
     "output_type": "stream",
     "text": [
      "DISCARDED (cannot help the LLM answer the question): {'source': 'aggregated_QImCld9YubE.txt', 'timestamp': '[00:00:00]'}\n"
     ]
    },
    {
     "name": "stderr",
     "output_type": "stream",
     "text": [
      " 57%|█████▋    | 8/14 [00:40<00:30,  5.05s/it]"
     ]
    },
    {
     "name": "stdout",
     "output_type": "stream",
     "text": [
      "DISCARDED (cannot help the LLM answer the question): {'source': 'aggregated_QImCld9YubE.txt', 'timestamp': '[00:06:18]'}\n"
     ]
    },
    {
     "name": "stderr",
     "output_type": "stream",
     "text": [
      " 64%|██████▍   | 9/14 [00:44<00:23,  4.63s/it]"
     ]
    },
    {
     "name": "stdout",
     "output_type": "stream",
     "text": [
      "DISCARDED (cannot help the LLM answer the question): {'source': 'aggregated_QImCld9YubE.txt', 'timestamp': '[00:01:42]'}\n"
     ]
    },
    {
     "name": "stderr",
     "output_type": "stream",
     "text": [
      " 79%|███████▊  | 11/14 [00:56<00:15,  5.24s/it]"
     ]
    },
    {
     "name": "stdout",
     "output_type": "stream",
     "text": [
      "DISCARDED (cannot help the LLM answer the question): {'source': 'aggregated_QOCaacO8wus.txt', 'timestamp': '[00:00:00]'}\n"
     ]
    },
    {
     "name": "stderr",
     "output_type": "stream",
     "text": [
      " 86%|████████▌ | 12/14 [01:00<00:09,  4.95s/it]"
     ]
    },
    {
     "name": "stdout",
     "output_type": "stream",
     "text": [
      "DISCARDED (cannot help the LLM answer the question): {'source': 'aggregated_QOCaacO8wus.txt', 'timestamp': '[00:04:08]'}\n"
     ]
    },
    {
     "name": "stderr",
     "output_type": "stream",
     "text": [
      " 93%|█████████▎| 13/14 [01:05<00:04,  4.94s/it]"
     ]
    },
    {
     "name": "stdout",
     "output_type": "stream",
     "text": [
      "DISCARDED (cannot help the LLM answer the question): {'source': 'aggregated_QImCld9YubE.txt', 'timestamp': '[00:05:40]'}\n"
     ]
    },
    {
     "name": "stderr",
     "output_type": "stream",
     "text": [
      "100%|██████████| 14/14 [01:11<00:00,  5.11s/it]"
     ]
    },
    {
     "name": "stdout",
     "output_type": "stream",
     "text": [
      "DISCARDED (cannot help the LLM answer the question): {'source': 'aggregated_TYPFenJQciw.txt', 'timestamp': '[00:00:00]'}\n",
      "\n",
      "N. correct metadata estimations: 3/3\n"
     ]
    },
    {
     "name": "stderr",
     "output_type": "stream",
     "text": [
      "\n"
     ]
    }
   ],
   "source": [
    "n_answered=0\n",
    "metadata_right_soft=0\n",
    "metadata_right_nofns=0\n",
    "metadata_right_hard=0\n",
    "total_passed=0\n",
    "for cycle in range(len(experiments[expID])):\n",
    "    print(\"\\n+ --- --- --- Cycle:\",cycle)\n",
    "    question,gts,eval_type=experiments['exp1'][cycle]\n",
    "    print(\"Question:\",question)\n",
    "    print(\"Ground truth metadata:\",gts)\n",
    "\n",
    "    docs=custom_retriever.custom_retrieve(question, db, gts, splits=splits, stride=0.05)\n",
    "    n_answered, metadata_right_soft, metadata_right_nofns, metadata_right_hard, total_passed=custom_retriever.generation_and_metrics(question=question, documents=docs, GTs=gts, expID=expID, \n",
    "                                                                                                                    n_answered=n_answered, metadata_right_soft=metadata_right_soft, metadata_right_nofns=metadata_right_nofns, metadata_right_hard=metadata_right_hard, total_passed=total_passed)"
   ]
  }
 ],
 "metadata": {
  "kernelspec": {
   "display_name": "base",
   "language": "python",
   "name": "python3"
  },
  "language_info": {
   "codemirror_mode": {
    "name": "ipython",
    "version": 3
   },
   "file_extension": ".py",
   "mimetype": "text/x-python",
   "name": "python",
   "nbconvert_exporter": "python",
   "pygments_lexer": "ipython3",
   "version": "3.10.2"
  }
 },
 "nbformat": 4,
 "nbformat_minor": 2
}
